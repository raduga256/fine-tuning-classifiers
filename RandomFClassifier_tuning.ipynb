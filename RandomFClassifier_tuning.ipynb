{
  "nbformat": 4,
  "nbformat_minor": 0,
  "metadata": {
    "colab": {
      "name": "RandomFClassifier_tuning.ipynb",
      "provenance": [],
      "collapsed_sections": [],
      "mount_file_id": "1ou82SUfD2yA1fq965NG-3fqY7yI05EqY",
      "authorship_tag": "ABX9TyMj/7BcBBPxRMC5VWtwSoL9",
      "include_colab_link": true
    },
    "kernelspec": {
      "name": "python3",
      "display_name": "Python 3"
    },
    "language_info": {
      "name": "python"
    }
  },
  "cells": [
    {
      "cell_type": "markdown",
      "metadata": {
        "id": "view-in-github",
        "colab_type": "text"
      },
      "source": [
        "<a href=\"https://colab.research.google.com/github/raduga256/fine-tuning-classifiers/blob/main/RandomFClassifier_tuning.ipynb\" target=\"_parent\"><img src=\"https://colab.research.google.com/assets/colab-badge.svg\" alt=\"Open In Colab\"/></a>"
      ]
    },
    {
      "cell_type": "markdown",
      "metadata": {
        "id": "kY9Z18XRxo_u"
      },
      "source": [
        "my aim was not to build a robust classifier, rather I wanted to show the practicality of optimizing a classifier for sensitivity. In figure A below, the goal is to move the decision threshold to the left. This minimizes false negatives, which are especially troublesome in the dataset chosen for this post. It contains features from images of 357 benign and 212 malignant breast biopsies. A false negative sample equates to missing a diagnosis of a malignant tumor. "
      ]
    },
    {
      "cell_type": "markdown",
      "metadata": {
        "id": "lqlOfJOFyazJ"
      },
      "source": [
        "With scikit-learn, tuning a classifier for recall can be achieved in (at least) two main steps.\n",
        "Using GridSearchCV to tune your model by searching for the best hyperparameters and keeping the classifier with the highest recall score.\n",
        "Adjust the decision threshold using the precision-recall curve and the roc curve, which is a more involved method.."
      ]
    },
    {
      "cell_type": "markdown",
      "metadata": {
        "id": "6SiUv-cCynDT"
      },
      "source": [
        ""
      ]
    },
    {
      "cell_type": "code",
      "metadata": {
        "id": "geRLmlj7wHhd"
      },
      "source": [
        "# Start by loading the necessary libraries and the data.\n",
        "import numpy as np\n",
        "import pandas as pd\n",
        "\n",
        "from sklearn.preprocessing import LabelBinarizer\n",
        "from sklearn.ensemble import RandomForestClassifier\n",
        "from sklearn.model_selection import train_test_split, GridSearchCV, StratifiedKFold\n",
        "from sklearn.metrics import roc_curve,plot_roc_curve, precision_recall_curve, auc, make_scorer, recall_score, accuracy_score, precision_score, confusion_matrix\n",
        "\n",
        "import matplotlib.pyplot as plt\n",
        "plt.style.use(\"ggplot\")\n",
        "\n",
        "df = pd.read_csv(\"/content/drive/My Drive/Colab Notebooks/breast_cancer_dataset.csv\")\n",
        "df2 = df"
      ],
      "execution_count": 28,
      "outputs": []
    },
    {
      "cell_type": "code",
      "metadata": {
        "colab": {
          "base_uri": "https://localhost:8080/",
          "height": 235
        },
        "id": "dJ4Z-lKn0Y6l",
        "outputId": "a042e2b5-4f6f-4177-809b-9acb283e0ccd"
      },
      "source": [
        "df2.sample(5)"
      ],
      "execution_count": 4,
      "outputs": [
        {
          "output_type": "execute_result",
          "data": {
            "text/html": [
              "<div>\n",
              "<style scoped>\n",
              "    .dataframe tbody tr th:only-of-type {\n",
              "        vertical-align: middle;\n",
              "    }\n",
              "\n",
              "    .dataframe tbody tr th {\n",
              "        vertical-align: top;\n",
              "    }\n",
              "\n",
              "    .dataframe thead th {\n",
              "        text-align: right;\n",
              "    }\n",
              "</style>\n",
              "<table border=\"1\" class=\"dataframe\">\n",
              "  <thead>\n",
              "    <tr style=\"text-align: right;\">\n",
              "      <th></th>\n",
              "      <th>id</th>\n",
              "      <th>diagnosis</th>\n",
              "      <th>radius_mean</th>\n",
              "      <th>texture_mean</th>\n",
              "      <th>perimeter_mean</th>\n",
              "      <th>area_mean</th>\n",
              "      <th>smoothness_mean</th>\n",
              "      <th>compactness_mean</th>\n",
              "      <th>concavity_mean</th>\n",
              "      <th>concave points_mean</th>\n",
              "      <th>symmetry_mean</th>\n",
              "      <th>fractal_dimension_mean</th>\n",
              "      <th>radius_se</th>\n",
              "      <th>texture_se</th>\n",
              "      <th>perimeter_se</th>\n",
              "      <th>area_se</th>\n",
              "      <th>smoothness_se</th>\n",
              "      <th>compactness_se</th>\n",
              "      <th>concavity_se</th>\n",
              "      <th>concave points_se</th>\n",
              "      <th>symmetry_se</th>\n",
              "      <th>fractal_dimension_se</th>\n",
              "      <th>radius_worst</th>\n",
              "      <th>texture_worst</th>\n",
              "      <th>perimeter_worst</th>\n",
              "      <th>area_worst</th>\n",
              "      <th>smoothness_worst</th>\n",
              "      <th>compactness_worst</th>\n",
              "      <th>concavity_worst</th>\n",
              "      <th>concave points_worst</th>\n",
              "      <th>symmetry_worst</th>\n",
              "      <th>fractal_dimension_worst</th>\n",
              "      <th>Unnamed: 32</th>\n",
              "    </tr>\n",
              "  </thead>\n",
              "  <tbody>\n",
              "    <tr>\n",
              "      <th>189</th>\n",
              "      <td>874839</td>\n",
              "      <td>B</td>\n",
              "      <td>12.30</td>\n",
              "      <td>15.90</td>\n",
              "      <td>78.83</td>\n",
              "      <td>463.7</td>\n",
              "      <td>0.08080</td>\n",
              "      <td>0.07253</td>\n",
              "      <td>0.038440</td>\n",
              "      <td>0.016540</td>\n",
              "      <td>0.1667</td>\n",
              "      <td>0.05474</td>\n",
              "      <td>0.2382</td>\n",
              "      <td>0.8355</td>\n",
              "      <td>1.687</td>\n",
              "      <td>18.320</td>\n",
              "      <td>0.005996</td>\n",
              "      <td>0.022120</td>\n",
              "      <td>0.021170</td>\n",
              "      <td>0.006433</td>\n",
              "      <td>0.02025</td>\n",
              "      <td>0.001725</td>\n",
              "      <td>13.350</td>\n",
              "      <td>19.59</td>\n",
              "      <td>86.65</td>\n",
              "      <td>546.7</td>\n",
              "      <td>0.10960</td>\n",
              "      <td>0.16500</td>\n",
              "      <td>0.14230</td>\n",
              "      <td>0.04815</td>\n",
              "      <td>0.2482</td>\n",
              "      <td>0.06306</td>\n",
              "      <td>NaN</td>\n",
              "    </tr>\n",
              "    <tr>\n",
              "      <th>190</th>\n",
              "      <td>874858</td>\n",
              "      <td>M</td>\n",
              "      <td>14.22</td>\n",
              "      <td>23.12</td>\n",
              "      <td>94.37</td>\n",
              "      <td>609.9</td>\n",
              "      <td>0.10750</td>\n",
              "      <td>0.24130</td>\n",
              "      <td>0.198100</td>\n",
              "      <td>0.066180</td>\n",
              "      <td>0.2384</td>\n",
              "      <td>0.07542</td>\n",
              "      <td>0.2860</td>\n",
              "      <td>2.1100</td>\n",
              "      <td>2.112</td>\n",
              "      <td>31.720</td>\n",
              "      <td>0.007970</td>\n",
              "      <td>0.135400</td>\n",
              "      <td>0.116600</td>\n",
              "      <td>0.016660</td>\n",
              "      <td>0.05113</td>\n",
              "      <td>0.011720</td>\n",
              "      <td>15.740</td>\n",
              "      <td>37.18</td>\n",
              "      <td>106.40</td>\n",
              "      <td>762.4</td>\n",
              "      <td>0.15330</td>\n",
              "      <td>0.93270</td>\n",
              "      <td>0.84880</td>\n",
              "      <td>0.17720</td>\n",
              "      <td>0.5166</td>\n",
              "      <td>0.14460</td>\n",
              "      <td>NaN</td>\n",
              "    </tr>\n",
              "    <tr>\n",
              "      <th>386</th>\n",
              "      <td>902975</td>\n",
              "      <td>B</td>\n",
              "      <td>12.21</td>\n",
              "      <td>14.09</td>\n",
              "      <td>78.78</td>\n",
              "      <td>462.0</td>\n",
              "      <td>0.08108</td>\n",
              "      <td>0.07823</td>\n",
              "      <td>0.068390</td>\n",
              "      <td>0.025340</td>\n",
              "      <td>0.1646</td>\n",
              "      <td>0.06154</td>\n",
              "      <td>0.2666</td>\n",
              "      <td>0.8309</td>\n",
              "      <td>2.097</td>\n",
              "      <td>19.960</td>\n",
              "      <td>0.004405</td>\n",
              "      <td>0.030260</td>\n",
              "      <td>0.043440</td>\n",
              "      <td>0.010870</td>\n",
              "      <td>0.01921</td>\n",
              "      <td>0.004622</td>\n",
              "      <td>13.130</td>\n",
              "      <td>19.29</td>\n",
              "      <td>87.65</td>\n",
              "      <td>529.9</td>\n",
              "      <td>0.10260</td>\n",
              "      <td>0.24310</td>\n",
              "      <td>0.30760</td>\n",
              "      <td>0.09140</td>\n",
              "      <td>0.2677</td>\n",
              "      <td>0.08824</td>\n",
              "      <td>NaN</td>\n",
              "    </tr>\n",
              "    <tr>\n",
              "      <th>89</th>\n",
              "      <td>861598</td>\n",
              "      <td>B</td>\n",
              "      <td>14.64</td>\n",
              "      <td>15.24</td>\n",
              "      <td>95.77</td>\n",
              "      <td>651.9</td>\n",
              "      <td>0.11320</td>\n",
              "      <td>0.13390</td>\n",
              "      <td>0.099660</td>\n",
              "      <td>0.070640</td>\n",
              "      <td>0.2116</td>\n",
              "      <td>0.06346</td>\n",
              "      <td>0.5115</td>\n",
              "      <td>0.7372</td>\n",
              "      <td>3.814</td>\n",
              "      <td>42.760</td>\n",
              "      <td>0.005508</td>\n",
              "      <td>0.044120</td>\n",
              "      <td>0.044360</td>\n",
              "      <td>0.016230</td>\n",
              "      <td>0.02427</td>\n",
              "      <td>0.004841</td>\n",
              "      <td>16.340</td>\n",
              "      <td>18.24</td>\n",
              "      <td>109.40</td>\n",
              "      <td>803.6</td>\n",
              "      <td>0.12770</td>\n",
              "      <td>0.30890</td>\n",
              "      <td>0.26040</td>\n",
              "      <td>0.13970</td>\n",
              "      <td>0.3151</td>\n",
              "      <td>0.08473</td>\n",
              "      <td>NaN</td>\n",
              "    </tr>\n",
              "    <tr>\n",
              "      <th>307</th>\n",
              "      <td>89346</td>\n",
              "      <td>B</td>\n",
              "      <td>9.00</td>\n",
              "      <td>14.40</td>\n",
              "      <td>56.36</td>\n",
              "      <td>246.3</td>\n",
              "      <td>0.07005</td>\n",
              "      <td>0.03116</td>\n",
              "      <td>0.003681</td>\n",
              "      <td>0.003472</td>\n",
              "      <td>0.1788</td>\n",
              "      <td>0.06833</td>\n",
              "      <td>0.1746</td>\n",
              "      <td>1.3050</td>\n",
              "      <td>1.144</td>\n",
              "      <td>9.789</td>\n",
              "      <td>0.007389</td>\n",
              "      <td>0.004883</td>\n",
              "      <td>0.003681</td>\n",
              "      <td>0.003472</td>\n",
              "      <td>0.02701</td>\n",
              "      <td>0.002153</td>\n",
              "      <td>9.699</td>\n",
              "      <td>20.07</td>\n",
              "      <td>60.90</td>\n",
              "      <td>285.5</td>\n",
              "      <td>0.09861</td>\n",
              "      <td>0.05232</td>\n",
              "      <td>0.01472</td>\n",
              "      <td>0.01389</td>\n",
              "      <td>0.2991</td>\n",
              "      <td>0.07804</td>\n",
              "      <td>NaN</td>\n",
              "    </tr>\n",
              "  </tbody>\n",
              "</table>\n",
              "</div>"
            ],
            "text/plain": [
              "         id diagnosis  ...  fractal_dimension_worst  Unnamed: 32\n",
              "189  874839         B  ...                  0.06306          NaN\n",
              "190  874858         M  ...                  0.14460          NaN\n",
              "386  902975         B  ...                  0.08824          NaN\n",
              "89   861598         B  ...                  0.08473          NaN\n",
              "307   89346         B  ...                  0.07804          NaN\n",
              "\n",
              "[5 rows x 33 columns]"
            ]
          },
          "metadata": {
            "tags": []
          },
          "execution_count": 4
        }
      ]
    },
    {
      "cell_type": "markdown",
      "metadata": {
        "id": "5dILBH3a0sfD"
      },
      "source": [
        "The class distribution can be found by counting the diagnosis column. B for benign and M for malignant."
      ]
    },
    {
      "cell_type": "code",
      "metadata": {
        "id": "0bnCcT8t0vKO"
      },
      "source": [
        ""
      ],
      "execution_count": 44,
      "outputs": []
    },
    {
      "cell_type": "markdown",
      "metadata": {
        "id": "_ux0rXWp2Lpt"
      },
      "source": [
        "Convert the class labels and split the data into training and test sets. train_test_split with stratify=True results in consistent class distribution between training and test sets:"
      ]
    },
    {
      "cell_type": "code",
      "metadata": {
        "id": "sn0WZslC2PCU"
      },
      "source": [
        "# by default majority class(benign) will be negative\n",
        "lb = LabelBinarizer()\n",
        "df['diagnosis'] = lb.fit_transform(df['diagnosis'].values)\n",
        "targets = df['diagnosis']\n",
        "\n",
        "df.drop(['id', 'diagnosis', 'Unnamed: 32'], axis=1, inplace=True)\n",
        "\n",
        "#train test split\n",
        "X_train, X_test, y_train, y_test = train_test_split(df, targets, stratify=targets, random_state=42)"
      ],
      "execution_count": 5,
      "outputs": []
    },
    {
      "cell_type": "code",
      "metadata": {
        "colab": {
          "base_uri": "https://localhost:8080/"
        },
        "id": "7IDdo92j7KOP",
        "outputId": "7c784f8d-a1dd-4d1c-be7e-58ca62999472"
      },
      "source": [
        "# show the distribution\n",
        "print('y_train class distribution')\n",
        "print(y_train.value_counts(normalize=True))\n",
        "\n",
        "print('y_test class distribution')\n",
        "print(y_test.value_counts(normalize=True))\n"
      ],
      "execution_count": 6,
      "outputs": [
        {
          "output_type": "stream",
          "text": [
            "y_train class distribution\n",
            "0    0.626761\n",
            "1    0.373239\n",
            "Name: diagnosis, dtype: float64\n",
            "y_test class distribution\n",
            "0    0.629371\n",
            "1    0.370629\n",
            "Name: diagnosis, dtype: float64\n"
          ],
          "name": "stdout"
        }
      ]
    },
    {
      "cell_type": "markdown",
      "metadata": {
        "id": "mRdoOMjF9iEm"
      },
      "source": [
        "Now that the data has been prepared, the classifier can be built."
      ]
    },
    {
      "cell_type": "markdown",
      "metadata": {
        "id": "ncL6wi2V9k8D"
      },
      "source": [
        "## First strategy: Optimize for sensitivity using GridSearchCV with the scoring argument.\n",
        "\n",
        "First build a generic classifier and setup a parameter grid; random forests have many tunable parameters, which make it suitable for GridSearchCV. The scorers dictionary can be used as the scoring argument in GridSearchCV. When multiple scores are passed, GridSearchCV.cv_results_ will return scoring metrics for each of the score types provided."
      ]
    },
    {
      "cell_type": "code",
      "metadata": {
        "id": "JhW6n2Hx92rK"
      },
      "source": [
        "clf = RandomForestClassifier()\n",
        "\n",
        "param_grid = {\n",
        "    'min_samples_split': [3, 5 , 10],\n",
        "    'n_estimators': [100, 300],\n",
        "    'max_depth':[3, 5, 15, 25],\n",
        "    'max_features': [3, 5, 10, 20]\n",
        "}\n",
        "\n",
        "scorers = {\n",
        "    'precision_score': make_scorer(precision_score),\n",
        "    'recall_score': make_scorer(recall_score),\n",
        "    'accuracy_score': make_scorer(accuracy_score)\n",
        "}"
      ],
      "execution_count": 7,
      "outputs": []
    },
    {
      "cell_type": "markdown",
      "metadata": {
        "id": "35TMewszA5q-"
      },
      "source": [
        "The function below uses GridSearchCV to fit several classifiers according to the combinations of parameters in the param_grid. The scores from scorers are recorded and the best model (as scored by the refit argument) will be selected and \"refit\" to the full training data for downstream use. This also makes predictions on the held out X_test and prints the confusion matrix to show performance.\n",
        "The point of the wrapper function is to quickly reuse the code to fit the best classifier according to the type of scoring metric chosen. First, try precision_score, which should limit the number of false positives. This isn't well-suited for the goal of maxium sensitivity, but allows us to quickly show the difference between a classifier optimized for precision_score and one optimized for recall_score."
      ]
    },
    {
      "cell_type": "code",
      "metadata": {
        "id": "ShEygJUwA8gG"
      },
      "source": [
        "def grid_search_wrapper(refit_score='precision_score'):\n",
        "  \"\"\"\n",
        "  fits a GridSearchCV classifier using refit_score for optimisation\n",
        "  prints classifier performance metrics\n",
        "  \"\"\"\n",
        "  skf = StratifiedKFold(n_splits=10)\n",
        "  grid_search = GridSearchCV(clf, param_grid, scoring=scorers, refit=refit_score, cv=skf, return_train_score=True, n_jobs=-1)\n",
        "  grid_search.fit(X_train.values, y_train.values)\n",
        "\n",
        "  #make the predictions\n",
        "  y_pred = grid_search.predict(X_test.values)\n",
        "\n",
        "  print('Best params for {}'.format(refit_score))\n",
        "  print(grid_search.best_params_)\n",
        "\n",
        "  # confusion matrix on the test data\n",
        "  print('\\nConfusion matrix of Random Forest optimised for {} on the test data:'.format(refit_score))\n",
        "  print(pd.DataFrame(confusion_matrix(y_test, y_pred), columns=['pred_neg', 'pred_pos'], index=['neg','pos']))\n",
        "\n",
        "  return grid_search"
      ],
      "execution_count": 8,
      "outputs": []
    },
    {
      "cell_type": "code",
      "metadata": {
        "colab": {
          "base_uri": "https://localhost:8080/"
        },
        "id": "LCmmvKwhGEMP",
        "outputId": "2a9eaf0b-5373-439d-fb83-0386d8d09487"
      },
      "source": [
        "grid_search_clf = grid_search_wrapper(refit_score='precision_score')"
      ],
      "execution_count": 9,
      "outputs": [
        {
          "output_type": "stream",
          "text": [
            "Best params for precision_score\n",
            "{'max_depth': 5, 'max_features': 10, 'min_samples_split': 5, 'n_estimators': 300}\n",
            "\n",
            "Confusion matrix of Random Forest optimised for precision_score on the test data:\n",
            "     pred_neg  pred_pos\n",
            "neg        90         0\n",
            "pos         5        48\n"
          ],
          "name": "stdout"
        }
      ]
    },
    {
      "cell_type": "markdown",
      "metadata": {
        "id": "ReGSh4XdZl6P"
      },
      "source": [
        "The precision, recall, and accuracy scores for every combination of the parameters in param_grid are stored in cv_results_. Here, a pandas DataFrame helps visualize the scores and parameters for each classifier iteration. This is included to show that although accuracy may be relatively consistent across classifiers, it’s obvious that precision and recall have a trade-off. Sorting by precision, the best scoring model should be the first record. This can be checked by looking at the parameters of the first record and comparing them to grid_search.best_params_ above."
      ]
    },
    {
      "cell_type": "code",
      "metadata": {
        "colab": {
          "base_uri": "https://localhost:8080/",
          "height": 218
        },
        "id": "i-TFdsDgZfDa",
        "outputId": "1900acac-a5e2-49bb-af5c-dd73b3bf52d1"
      },
      "source": [
        "results = pd.DataFrame(grid_search_clf.cv_results_)\n",
        "results = results.sort_values(by='mean_test_precision_score', ascending=False)\n",
        "results[['mean_test_precision_score', 'mean_test_recall_score', 'mean_test_accuracy_score', 'param_max_depth', 'param_max_features', 'param_min_samples_split', 'param_n_estimators']].round(3).head()"
      ],
      "execution_count": 10,
      "outputs": [
        {
          "output_type": "execute_result",
          "data": {
            "text/html": [
              "<div>\n",
              "<style scoped>\n",
              "    .dataframe tbody tr th:only-of-type {\n",
              "        vertical-align: middle;\n",
              "    }\n",
              "\n",
              "    .dataframe tbody tr th {\n",
              "        vertical-align: top;\n",
              "    }\n",
              "\n",
              "    .dataframe thead th {\n",
              "        text-align: right;\n",
              "    }\n",
              "</style>\n",
              "<table border=\"1\" class=\"dataframe\">\n",
              "  <thead>\n",
              "    <tr style=\"text-align: right;\">\n",
              "      <th></th>\n",
              "      <th>mean_test_precision_score</th>\n",
              "      <th>mean_test_recall_score</th>\n",
              "      <th>mean_test_accuracy_score</th>\n",
              "      <th>param_max_depth</th>\n",
              "      <th>param_max_features</th>\n",
              "      <th>param_min_samples_split</th>\n",
              "      <th>param_n_estimators</th>\n",
              "    </tr>\n",
              "  </thead>\n",
              "  <tbody>\n",
              "    <tr>\n",
              "      <th>39</th>\n",
              "      <td>0.969</td>\n",
              "      <td>0.931</td>\n",
              "      <td>0.962</td>\n",
              "      <td>5</td>\n",
              "      <td>10</td>\n",
              "      <td>5</td>\n",
              "      <td>300</td>\n",
              "    </tr>\n",
              "    <tr>\n",
              "      <th>73</th>\n",
              "      <td>0.969</td>\n",
              "      <td>0.937</td>\n",
              "      <td>0.965</td>\n",
              "      <td>25</td>\n",
              "      <td>3</td>\n",
              "      <td>3</td>\n",
              "      <td>300</td>\n",
              "    </tr>\n",
              "    <tr>\n",
              "      <th>49</th>\n",
              "      <td>0.968</td>\n",
              "      <td>0.931</td>\n",
              "      <td>0.962</td>\n",
              "      <td>15</td>\n",
              "      <td>3</td>\n",
              "      <td>3</td>\n",
              "      <td>300</td>\n",
              "    </tr>\n",
              "    <tr>\n",
              "      <th>84</th>\n",
              "      <td>0.965</td>\n",
              "      <td>0.943</td>\n",
              "      <td>0.965</td>\n",
              "      <td>25</td>\n",
              "      <td>10</td>\n",
              "      <td>3</td>\n",
              "      <td>100</td>\n",
              "    </tr>\n",
              "    <tr>\n",
              "      <th>90</th>\n",
              "      <td>0.965</td>\n",
              "      <td>0.937</td>\n",
              "      <td>0.962</td>\n",
              "      <td>25</td>\n",
              "      <td>20</td>\n",
              "      <td>3</td>\n",
              "      <td>100</td>\n",
              "    </tr>\n",
              "  </tbody>\n",
              "</table>\n",
              "</div>"
            ],
            "text/plain": [
              "    mean_test_precision_score  ...  param_n_estimators\n",
              "39                      0.969  ...                 300\n",
              "73                      0.969  ...                 300\n",
              "49                      0.968  ...                 300\n",
              "84                      0.965  ...                 100\n",
              "90                      0.965  ...                 100\n",
              "\n",
              "[5 rows x 7 columns]"
            ]
          },
          "metadata": {
            "tags": []
          },
          "execution_count": 10
        }
      ]
    },
    {
      "cell_type": "markdown",
      "metadata": {
        "id": "eO5Wtt2UeA-X"
      },
      "source": [
        "That classifier was optimized for precision. For comparison, to show how GridSearchCV selects the best classifier, the function call below returns a classifier optimized for recall. The grid might be similar to the grid above, the only difference is that the classifer with the highest recall will be refit. This will be the most desirable metric in the cancer diagnosis classification problem, there should be less false negatives on the test set confusion matrix."
      ]
    },
    {
      "cell_type": "code",
      "metadata": {
        "colab": {
          "base_uri": "https://localhost:8080/"
        },
        "id": "Nau1R7TqeERQ",
        "outputId": "250be9ff-d152-4f35-a608-ac242cf046b6"
      },
      "source": [
        "grid_search_clf = grid_search_wrapper(refit_score='recall_score')"
      ],
      "execution_count": 11,
      "outputs": [
        {
          "output_type": "stream",
          "text": [
            "Best params for recall_score\n",
            "{'max_depth': 3, 'max_features': 5, 'min_samples_split': 10, 'n_estimators': 300}\n",
            "\n",
            "Confusion matrix of Random Forest optimised for recall_score on the test data:\n",
            "     pred_neg  pred_pos\n",
            "neg        90         0\n",
            "pos         7        46\n"
          ],
          "name": "stdout"
        }
      ]
    },
    {
      "cell_type": "markdown",
      "metadata": {
        "id": "wP-zCMQTfShS"
      },
      "source": [
        "Generating the results table again, only this time it the best scores will be recall."
      ]
    },
    {
      "cell_type": "code",
      "metadata": {
        "colab": {
          "base_uri": "https://localhost:8080/",
          "height": 218
        },
        "id": "fvolQ5G7fX3y",
        "outputId": "0691aeab-ef9f-4e9a-e203-bdc01e960118"
      },
      "source": [
        "results = pd.DataFrame(grid_search_clf.cv_results_)\n",
        "results = results.sort_values(by='mean_test_precision_score', ascending=False)\n",
        "\n",
        "results[['mean_test_precision_score', 'mean_test_recall_score', 'mean_test_accuracy_score', 'param_max_depth', 'param_max_features', 'param_min_samples_split', 'param_n_estimators']].round(3).head()"
      ],
      "execution_count": 12,
      "outputs": [
        {
          "output_type": "execute_result",
          "data": {
            "text/html": [
              "<div>\n",
              "<style scoped>\n",
              "    .dataframe tbody tr th:only-of-type {\n",
              "        vertical-align: middle;\n",
              "    }\n",
              "\n",
              "    .dataframe tbody tr th {\n",
              "        vertical-align: top;\n",
              "    }\n",
              "\n",
              "    .dataframe thead th {\n",
              "        text-align: right;\n",
              "    }\n",
              "</style>\n",
              "<table border=\"1\" class=\"dataframe\">\n",
              "  <thead>\n",
              "    <tr style=\"text-align: right;\">\n",
              "      <th></th>\n",
              "      <th>mean_test_precision_score</th>\n",
              "      <th>mean_test_recall_score</th>\n",
              "      <th>mean_test_accuracy_score</th>\n",
              "      <th>param_max_depth</th>\n",
              "      <th>param_max_features</th>\n",
              "      <th>param_min_samples_split</th>\n",
              "      <th>param_n_estimators</th>\n",
              "    </tr>\n",
              "  </thead>\n",
              "  <tbody>\n",
              "    <tr>\n",
              "      <th>42</th>\n",
              "      <td>0.970</td>\n",
              "      <td>0.925</td>\n",
              "      <td>0.960</td>\n",
              "      <td>5</td>\n",
              "      <td>20</td>\n",
              "      <td>3</td>\n",
              "      <td>100</td>\n",
              "    </tr>\n",
              "    <tr>\n",
              "      <th>0</th>\n",
              "      <td>0.969</td>\n",
              "      <td>0.918</td>\n",
              "      <td>0.958</td>\n",
              "      <td>3</td>\n",
              "      <td>3</td>\n",
              "      <td>3</td>\n",
              "      <td>100</td>\n",
              "    </tr>\n",
              "    <tr>\n",
              "      <th>75</th>\n",
              "      <td>0.964</td>\n",
              "      <td>0.937</td>\n",
              "      <td>0.962</td>\n",
              "      <td>25</td>\n",
              "      <td>3</td>\n",
              "      <td>5</td>\n",
              "      <td>300</td>\n",
              "    </tr>\n",
              "    <tr>\n",
              "      <th>24</th>\n",
              "      <td>0.964</td>\n",
              "      <td>0.931</td>\n",
              "      <td>0.960</td>\n",
              "      <td>5</td>\n",
              "      <td>3</td>\n",
              "      <td>3</td>\n",
              "      <td>100</td>\n",
              "    </tr>\n",
              "    <tr>\n",
              "      <th>68</th>\n",
              "      <td>0.964</td>\n",
              "      <td>0.937</td>\n",
              "      <td>0.962</td>\n",
              "      <td>15</td>\n",
              "      <td>20</td>\n",
              "      <td>5</td>\n",
              "      <td>100</td>\n",
              "    </tr>\n",
              "  </tbody>\n",
              "</table>\n",
              "</div>"
            ],
            "text/plain": [
              "    mean_test_precision_score  ...  param_n_estimators\n",
              "42                      0.970  ...                 100\n",
              "0                       0.969  ...                 100\n",
              "75                      0.964  ...                 300\n",
              "24                      0.964  ...                 100\n",
              "68                      0.964  ...                 100\n",
              "\n",
              "[5 rows x 7 columns]"
            ]
          },
          "metadata": {
            "tags": []
          },
          "execution_count": 12
        }
      ]
    },
    {
      "cell_type": "markdown",
      "metadata": {
        "id": "7sx8ijlKhGe6"
      },
      "source": [
        "The first strategy doesn’t yield impressive results for recall_score, it doesn’t significantly reduce (if at all) the number of false negatives compared to the classifier optimized for precision_score. Ideally, when designing a cancer diagnosis test, the classifier should strive as few false negatives as possible."
      ]
    },
    {
      "cell_type": "markdown",
      "metadata": {
        "id": "Dg8HWFCUhI_s"
      },
      "source": [
        "## Strategy 2: Adjust the decision threshold to identify the operating point"
      ]
    },
    {
      "cell_type": "markdown",
      "metadata": {
        "id": "j-GrELqZhy79"
      },
      "source": [
        "## Important Hint\n",
        "The key to understanding how to fine tune classifiers in scikit-learn is to understand the methods.predict_proba() and .decision_function(). These return the raw probability that a sample is predicted to be in a class. This is an important distinction from the absolute class predictions returned by calling the .predict() method."
      ]
    },
    {
      "cell_type": "markdown",
      "metadata": {
        "id": "iDVrz5oPiJz3"
      },
      "source": [
        "To make this method generalizable to all classifiers in scikit-learn, know that some classifiers (like RandomForest) use .predict_proba() while others (like SVC) use .decision_function(). The default threshold for RandomForestClassifier is 0.5, so use that as a starting point. Create an array of the class probabilites called y_scores."
      ]
    },
    {
      "cell_type": "code",
      "metadata": {
        "id": "Grxz-n48jA5s"
      },
      "source": [
        "y_scores = grid_search_clf.predict_proba(X_test)[:, 1]\n",
        "\n",
        "# for classifiers with decision_function, this achieves similar results\n",
        "# y_scores = classifier.decision_function(X_test)"
      ],
      "execution_count": 13,
      "outputs": []
    },
    {
      "cell_type": "markdown",
      "metadata": {
        "id": "OsWeT3gFkFYM"
      },
      "source": [
        "Generate the precision-recall curve for the classifier:"
      ]
    },
    {
      "cell_type": "code",
      "metadata": {
        "id": "JQuSQLxjkJLj"
      },
      "source": [
        "p, r, thresholds = precision_recall_curve(y_test, y_scores)"
      ],
      "execution_count": 14,
      "outputs": []
    },
    {
      "cell_type": "markdown",
      "metadata": {
        "id": "gVIFN-yqk8fI"
      },
      "source": [
        "Here adjusted_classes is a simple function to return a modified version of y_scores that was calculated above, only now class labels will be assigned according to the probability threshold t. The other function below plots the precision and recall with respect to the given threshold value, t."
      ]
    },
    {
      "cell_type": "code",
      "metadata": {
        "id": "hxnKxW4klHcd"
      },
      "source": [
        "def adjusted_classes(y_scores, t):\n",
        "  \"\"\"\n",
        "  This function adjusts class predictions based on the prediction threshold(t).\n",
        "  Will only work for binary classification problems\n",
        "  \"\"\"\n",
        "\n",
        "  return [1 if y >= t else 0 for y in y_scores]\n",
        "\n",
        "def precision_recall_threshold(p, r, thresholds, t=0.5):  \n",
        "  \"\"\"\n",
        "  plots the precision recall curve and shows the current value for each by \n",
        "  indentifying the classifier's threshold (t).\n",
        "  \"\"\"\n",
        "\n",
        "  # generate new class predictions based on the adjusted_classes\n",
        "  # function above and view the resulting confusion matrix.\n",
        "  y_pred_adj = adjusted_classes(y_scores, t)\n",
        "  print(pd.DataFrame(confusion_matrix(y_test, y_pred_adj), columns=['pred_neg', 'pred_pos'],index=['neg', 'pos']))\n",
        "\n",
        "  # plot the curve                      \n",
        "  plt.figure(figsize=(8,8))\n",
        "  plt.title(\"Precision and Recall curve ^ = current threshold\")\n",
        "  plt.step(r, p, color='b', alpha=0.2,\n",
        "             where='post')\n",
        "  plt.fill_between(r, p, step='post', alpha=0.2,\n",
        "                     color='b')\n",
        "  plt.ylim([0.5, 1.01]);\n",
        "  plt.xlim([0.5, 1.01]);\n",
        "  plt.xlabel('Recall');\n",
        "  plt.ylabel('Precision');\n",
        "    \n",
        "  # plot the current threshold on the line\n",
        "  close_default_clf = np.argmin(np.abs(thresholds - t))\n",
        "  plt.plot(r[close_default_clf], p[close_default_clf], '^', c='k',\n",
        "            markersize=15)  \n",
        "\n"
      ],
      "execution_count": 18,
      "outputs": []
    },
    {
      "cell_type": "markdown",
      "metadata": {
        "id": "5-Jl97hKRYRG"
      },
      "source": [
        "## Adjusting the Decision Boundary/Threshold\n",
        "Re-execute this function for several iterations, changing t each time, to tune the threshold until there are 0 False Negatives. On this particular run, I had to go all the way down to 0.29 before reducing the false negatives to 0."
      ]
    },
    {
      "cell_type": "code",
      "metadata": {
        "colab": {
          "base_uri": "https://localhost:8080/",
          "height": 572
        },
        "id": "JU9TdvH0RgPz",
        "outputId": "941e91ed-5d71-461c-fe64-6bda6c23318d"
      },
      "source": [
        "precision_recall_threshold(p, r, thresholds, 0.15)"
      ],
      "execution_count": 25,
      "outputs": [
        {
          "output_type": "stream",
          "text": [
            "     pred_neg  pred_pos\n",
            "neg        78        12\n",
            "pos         1        52\n"
          ],
          "name": "stdout"
        },
        {
          "output_type": "display_data",
          "data": {
            "image/png": "[encoded data removed]",
            "text/plain": [
              "<Figure size 576x576 with 1 Axes>"
            ]
          },
          "metadata": {
            "tags": []
          }
        }
      ]
    },
    {
      "cell_type": "markdown",
      "metadata": {
        "id": "uPi5qXj1TJLQ"
      },
      "source": [
        "Finally, the ROC curve shows that to achieve a 1.0 recall, the user of the model must select an operating point that allows for some false positive rate > 0.0."
      ]
    },
    {
      "cell_type": "code",
      "metadata": {
        "id": "PdOahdd-TLp2"
      },
      "source": [
        "fpr, tpr, auc_thresholds = roc_curve(y_test, y_scores)\n",
        "print(auc(fpr, tpr)) # AUC of ROC\n",
        "plot_roc_curve(fpr, tpr, 'recall_optimized')"
      ],
      "execution_count": 31,
      "outputs": []
    }
  ]
}